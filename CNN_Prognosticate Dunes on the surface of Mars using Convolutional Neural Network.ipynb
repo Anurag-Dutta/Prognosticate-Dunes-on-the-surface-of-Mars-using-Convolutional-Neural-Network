{
  "cells": [
    {
      "attachments": {},
      "cell_type": "markdown",
      "metadata": {
        "id": "TCFfenuaNjtW"
      },
      "source": [
        "### Prognosticate Dunes on the surface of Mars using Convolutional Neural Network"
      ]
    },
    {
      "cell_type": "markdown",
      "metadata": {
        "id": "2vawlEfpNqKt"
      },
      "source": [
        "AUTHOR:  Anurag Dutta (anuragdutta.research@gmail.com)"
      ]
    },
    {
      "attachments": {},
      "cell_type": "markdown",
      "metadata": {
        "id": "xAaqO8UANsTs"
      },
      "source": [
        "CREATED: 2023-01-06 22:45:50"
      ]
    },
    {
      "attachments": {},
      "cell_type": "markdown",
      "metadata": {
        "id": "8w9B3vvSNu1K"
      },
      "source": [
        "DATASET: https://github.com/Anurag-Dutta/Prognosticate-Dunes-on-the-surface-of-Mars-using-Convolutional-Neural-Network/tree/main/dataset"
      ]
    },
    {
      "cell_type": "code",
      "execution_count": 37,
      "metadata": {
        "id": "HLjhKoPuqLL1"
      },
      "outputs": [],
      "source": [
        "import tensorflow as tf\n",
        "from tensorflow import keras\n",
        "from keras import Sequential\n",
        "from keras.layers import Dense,Conv2D,MaxPooling2D,Flatten,BatchNormalization,Dropout"
      ]
    },
    {
      "cell_type": "code",
      "execution_count": 38,
      "metadata": {
        "colab": {
          "base_uri": "https://localhost:8080/"
        },
        "id": "-f2dkRxXqobD",
        "outputId": "32126df0-1fd1-4975-9726-bacb985ac53d"
      },
      "outputs": [
        {
          "name": "stdout",
          "output_type": "stream",
          "text": [
            "Found 1904 files belonging to 2 classes.\n",
            "Found 123 files belonging to 2 classes.\n"
          ]
        }
      ],
      "source": [
        "# generators\n",
        "train_ds = keras.utils.image_dataset_from_directory(\n",
        "    directory = 'dataset/train',\n",
        "    labels='inferred',\n",
        "    label_mode = 'int',\n",
        "    batch_size=32,\n",
        "    image_size=(64, 64)\n",
        ")\n",
        "\n",
        "validation_ds = keras.utils.image_dataset_from_directory(\n",
        "    directory = 'dataset/test',\n",
        "    labels='inferred',\n",
        "    label_mode = 'int',\n",
        "    batch_size=32,\n",
        "    image_size=(64, 64)\n",
        ")"
      ]
    },
    {
      "cell_type": "code",
      "execution_count": 39,
      "metadata": {
        "id": "2H94lUTyr_Rd"
      },
      "outputs": [],
      "source": [
        "# Normalize\n",
        "def process(image,label):\n",
        "    image = tf.cast(image/255. ,tf.float32)\n",
        "    return image,label\n",
        "\n",
        "train_ds = train_ds.map(process)\n",
        "validation_ds = validation_ds.map(process)"
      ]
    },
    {
      "cell_type": "code",
      "execution_count": 40,
      "metadata": {
        "id": "_FcGcmkescVi"
      },
      "outputs": [],
      "source": [
        "# create CNN model\n",
        "\n",
        "model = Sequential()\n",
        "\n",
        "model.add(Conv2D(32,kernel_size=(3, 3),padding='valid',activation='relu',input_shape=(64,64,3)))\n",
        "model.add(BatchNormalization())\n",
        "model.add(MaxPooling2D(pool_size=(2, 2),strides=2,padding='valid'))\n",
        "\n",
        "model.add(Conv2D(64,kernel_size=(3, 3),padding='valid',activation='relu'))\n",
        "model.add(BatchNormalization())\n",
        "model.add(MaxPooling2D(pool_size=(2, 2),strides=2,padding='valid'))\n",
        "\n",
        "model.add(Conv2D(128,kernel_size=(3, 3),padding='valid',activation='relu'))\n",
        "model.add(BatchNormalization())\n",
        "model.add(MaxPooling2D(pool_size=(2, 2),strides=2,padding='valid'))\n",
        "\n",
        "model.add(Flatten())\n",
        "\n",
        "model.add(Dense(128,activation='relu'))\n",
        "model.add(Dropout(0.1))\n",
        "model.add(Dense(64,activation='relu'))\n",
        "model.add(Dropout(0.1))\n",
        "model.add(Dense(1,activation='sigmoid'))"
      ]
    },
    {
      "cell_type": "code",
      "execution_count": 41,
      "metadata": {
        "colab": {
          "base_uri": "https://localhost:8080/"
        },
        "id": "7aJZyq2Ltdno",
        "outputId": "f3cc78ac-c158-4a75-f6fa-007cb49ab2c9"
      },
      "outputs": [
        {
          "name": "stdout",
          "output_type": "stream",
          "text": [
            "Model: \"sequential_2\"\n",
            "_________________________________________________________________\n",
            " Layer (type)                Output Shape              Param #   \n",
            "=================================================================\n",
            " conv2d_6 (Conv2D)           (None, 62, 62, 32)        896       \n",
            "                                                                 \n",
            " batch_normalization_6 (Batc  (None, 62, 62, 32)       128       \n",
            " hNormalization)                                                 \n",
            "                                                                 \n",
            " max_pooling2d_6 (MaxPooling  (None, 31, 31, 32)       0         \n",
            " 2D)                                                             \n",
            "                                                                 \n",
            " conv2d_7 (Conv2D)           (None, 29, 29, 64)        18496     \n",
            "                                                                 \n",
            " batch_normalization_7 (Batc  (None, 29, 29, 64)       256       \n",
            " hNormalization)                                                 \n",
            "                                                                 \n",
            " max_pooling2d_7 (MaxPooling  (None, 14, 14, 64)       0         \n",
            " 2D)                                                             \n",
            "                                                                 \n",
            " conv2d_8 (Conv2D)           (None, 12, 12, 128)       73856     \n",
            "                                                                 \n",
            " batch_normalization_8 (Batc  (None, 12, 12, 128)      512       \n",
            " hNormalization)                                                 \n",
            "                                                                 \n",
            " max_pooling2d_8 (MaxPooling  (None, 6, 6, 128)        0         \n",
            " 2D)                                                             \n",
            "                                                                 \n",
            " flatten_2 (Flatten)         (None, 4608)              0         \n",
            "                                                                 \n",
            " dense_6 (Dense)             (None, 128)               589952    \n",
            "                                                                 \n",
            " dropout_4 (Dropout)         (None, 128)               0         \n",
            "                                                                 \n",
            " dense_7 (Dense)             (None, 64)                8256      \n",
            "                                                                 \n",
            " dropout_5 (Dropout)         (None, 64)                0         \n",
            "                                                                 \n",
            " dense_8 (Dense)             (None, 1)                 65        \n",
            "                                                                 \n",
            "=================================================================\n",
            "Total params: 692,417\n",
            "Trainable params: 691,969\n",
            "Non-trainable params: 448\n",
            "_________________________________________________________________\n"
          ]
        }
      ],
      "source": [
        "model.summary()"
      ]
    },
    {
      "cell_type": "code",
      "execution_count": 42,
      "metadata": {
        "id": "SL-E5k_5tf9N"
      },
      "outputs": [],
      "source": [
        "model.compile(optimizer='AdaGrad',loss='binary_crossentropy',metrics=['accuracy'])"
      ]
    },
    {
      "cell_type": "code",
      "execution_count": 43,
      "metadata": {
        "colab": {
          "base_uri": "https://localhost:8080/"
        },
        "id": "HHBFNFHCtzLu",
        "outputId": "05fe5840-f4ed-46d4-c543-ea060689d7f4"
      },
      "outputs": [
        {
          "name": "stdout",
          "output_type": "stream",
          "text": [
            "Epoch 1/15\n",
            "60/60 [==============================] - 8s 126ms/step - loss: 0.4181 - accuracy: 0.7852 - val_loss: 0.6590 - val_accuracy: 0.6748\n",
            "Epoch 2/15\n",
            "60/60 [==============================] - 8s 123ms/step - loss: 0.3013 - accuracy: 0.8587 - val_loss: 0.6475 - val_accuracy: 0.6748\n",
            "Epoch 3/15\n",
            "60/60 [==============================] - 8s 126ms/step - loss: 0.2795 - accuracy: 0.8629 - val_loss: 0.6728 - val_accuracy: 0.6667\n",
            "Epoch 4/15\n",
            "60/60 [==============================] - 8s 129ms/step - loss: 0.2466 - accuracy: 0.8845 - val_loss: 0.6862 - val_accuracy: 0.5691\n",
            "Epoch 5/15\n",
            "60/60 [==============================] - 8s 131ms/step - loss: 0.2243 - accuracy: 0.9044 - val_loss: 0.7019 - val_accuracy: 0.5041\n",
            "Epoch 6/15\n",
            "60/60 [==============================] - 8s 134ms/step - loss: 0.2083 - accuracy: 0.9060 - val_loss: 0.7255 - val_accuracy: 0.4797\n",
            "Epoch 7/15\n",
            "60/60 [==============================] - 8s 135ms/step - loss: 0.1920 - accuracy: 0.9175 - val_loss: 0.7063 - val_accuracy: 0.5203\n",
            "Epoch 8/15\n",
            "60/60 [==============================] - 8s 133ms/step - loss: 0.1658 - accuracy: 0.9312 - val_loss: 0.5718 - val_accuracy: 0.7398\n",
            "Epoch 9/15\n",
            "60/60 [==============================] - 8s 133ms/step - loss: 0.1679 - accuracy: 0.9296 - val_loss: 0.4481 - val_accuracy: 0.7805\n",
            "Epoch 10/15\n",
            "60/60 [==============================] - 8s 132ms/step - loss: 0.1572 - accuracy: 0.9338 - val_loss: 0.4422 - val_accuracy: 0.8049\n",
            "Epoch 11/15\n",
            "60/60 [==============================] - 8s 134ms/step - loss: 0.1525 - accuracy: 0.9291 - val_loss: 0.4237 - val_accuracy: 0.8130\n",
            "Epoch 12/15\n",
            "60/60 [==============================] - 9s 140ms/step - loss: 0.1476 - accuracy: 0.9401 - val_loss: 0.4170 - val_accuracy: 0.8293\n",
            "Epoch 13/15\n",
            "60/60 [==============================] - 9s 142ms/step - loss: 0.1277 - accuracy: 0.9449 - val_loss: 0.4452 - val_accuracy: 0.8049\n",
            "Epoch 14/15\n",
            "60/60 [==============================] - 9s 141ms/step - loss: 0.1323 - accuracy: 0.9485 - val_loss: 0.4472 - val_accuracy: 0.8130\n",
            "Epoch 15/15\n",
            "60/60 [==============================] - 9s 144ms/step - loss: 0.1096 - accuracy: 0.9596 - val_loss: 0.4829 - val_accuracy: 0.8049\n"
          ]
        }
      ],
      "source": [
        "history = model.fit(train_ds,epochs=15,validation_data=validation_ds)"
      ]
    },
    {
      "cell_type": "code",
      "execution_count": 47,
      "metadata": {},
      "outputs": [
        {
          "name": "stdout",
          "output_type": "stream",
          "text": [
            "4/4 [==============================] - 0s 35ms/step - loss: 0.4829 - accuracy: 0.8049\n"
          ]
        },
        {
          "data": {
            "text/plain": [
              "[0.4829333424568176, 0.8048780560493469]"
            ]
          },
          "execution_count": 47,
          "metadata": {},
          "output_type": "execute_result"
        }
      ],
      "source": [
        "model.evaluate(validation_ds)"
      ]
    },
    {
      "cell_type": "code",
      "execution_count": 48,
      "metadata": {
        "colab": {
          "base_uri": "https://localhost:8080/",
          "height": 265
        },
        "id": "GLXWhpapuAuV",
        "outputId": "9e42e764-60b5-4dd5-a49c-ab235dfca945"
      },
      "outputs": [
        {
          "data": {
            "image/png": "[encoded data removed]",
            "text/plain": [
              "<Figure size 432x288 with 1 Axes>"
            ]
          },
          "metadata": {
            "needs_background": "light"
          },
          "output_type": "display_data"
        }
      ],
      "source": [
        "import matplotlib.pyplot as plt\n",
        "\n",
        "plt.plot(history.history['accuracy'],color='brown',label='Training')\n",
        "plt.plot(history.history['val_accuracy'],color='red',label='Testing')\n",
        "plt.legend()\n",
        "plt.show()"
      ]
    },
    {
      "cell_type": "code",
      "execution_count": 49,
      "metadata": {
        "colab": {
          "base_uri": "https://localhost:8080/",
          "height": 265
        },
        "id": "KvbfHPut7Zer",
        "outputId": "801adae5-2d23-4f83-d7bc-9412fd4ca183"
      },
      "outputs": [
        {
          "data": {
            "image/png": "[encoded data removed]",
            "text/plain": [
              "<Figure size 432x288 with 1 Axes>"
            ]
          },
          "metadata": {
            "needs_background": "light"
          },
          "output_type": "display_data"
        }
      ],
      "source": [
        "plt.plot(history.history['loss'],color='brown',label='Training')\n",
        "plt.plot(history.history['val_loss'],color='red',label='Testing')\n",
        "plt.legend()\n",
        "plt.show()"
      ]
    }
  ],
  "metadata": {
    "accelerator": "GPU",
    "colab": {
      "provenance": []
    },
    "kernelspec": {
      "display_name": "Python 3",
      "language": "python",
      "name": "python3"
    },
    "language_info": {
      "codemirror_mode": {
        "name": "ipython",
        "version": 3
      },
      "file_extension": ".py",
      "mimetype": "text/x-python",
      "name": "python",
      "nbconvert_exporter": "python",
      "pygments_lexer": "ipython3",
      "version": "3.9.13"
    },
    "vscode": {
      "interpreter": {
        "hash": "628c80e3809a46203876fdd5cbc816d645c25628ab36310a47bd2d99a309ccdc"
      }
    }
  },
  "nbformat": 4,
  "nbformat_minor": 0
}
