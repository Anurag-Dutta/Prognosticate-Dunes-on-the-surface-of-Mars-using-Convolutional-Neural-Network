{
  "cells": [
    {
      "attachments": {},
      "cell_type": "markdown",
      "metadata": {
        "id": "TCFfenuaNjtW"
      },
      "source": [
        "### Prognosticate Dunes on the surface of Mars using Convolutional Neural Network"
      ]
    },
    {
      "cell_type": "markdown",
      "metadata": {
        "id": "2vawlEfpNqKt"
      },
      "source": [
        "AUTHOR:  Anurag Dutta (anuragdutta.research@gmail.com)"
      ]
    },
    {
      "attachments": {},
      "cell_type": "markdown",
      "metadata": {
        "id": "xAaqO8UANsTs"
      },
      "source": [
        "CREATED: 2023-01-06 22:45:50"
      ]
    },
    {
      "attachments": {},
      "cell_type": "markdown",
      "metadata": {
        "id": "8w9B3vvSNu1K"
      },
      "source": [
        "DATASET: https://github.com/Anurag-Dutta/Prognosticate-Dunes-on-the-surface-of-Mars-using-Convolutional-Neural-Network/tree/main/dataset"
      ]
    },
    {
      "cell_type": "code",
      "execution_count": 1,
      "metadata": {
        "id": "HLjhKoPuqLL1"
      },
      "outputs": [],
      "source": [
        "import tensorflow as tf\n",
        "from tensorflow import keras\n",
        "from keras import Sequential\n",
        "from keras.layers import Dense,Conv2D,MaxPooling2D,Flatten,BatchNormalization,Dropout"
      ]
    },
    {
      "cell_type": "code",
      "execution_count": 2,
      "metadata": {
        "colab": {
          "base_uri": "https://localhost:8080/"
        },
        "id": "-f2dkRxXqobD",
        "outputId": "32126df0-1fd1-4975-9726-bacb985ac53d"
      },
      "outputs": [
        {
          "name": "stdout",
          "output_type": "stream",
          "text": [
            "Found 1904 files belonging to 2 classes.\n",
            "Found 123 files belonging to 2 classes.\n"
          ]
        }
      ],
      "source": [
        "# generators\n",
        "train_ds = keras.utils.image_dataset_from_directory(\n",
        "    directory = 'dataset/train',\n",
        "    labels='inferred',\n",
        "    label_mode = 'int',\n",
        "    batch_size=32,\n",
        "    image_size=(64, 64)\n",
        ")\n",
        "\n",
        "validation_ds = keras.utils.image_dataset_from_directory(\n",
        "    directory = 'dataset/test',\n",
        "    labels='inferred',\n",
        "    label_mode = 'int',\n",
        "    batch_size=32,\n",
        "    image_size=(64, 64)\n",
        ")"
      ]
    },
    {
      "cell_type": "code",
      "execution_count": 3,
      "metadata": {
        "id": "2H94lUTyr_Rd"
      },
      "outputs": [],
      "source": [
        "# Normalize\n",
        "def process(image,label):\n",
        "    image = tf.cast(image/255. ,tf.float32)\n",
        "    return image,label\n",
        "\n",
        "train_ds = train_ds.map(process)\n",
        "validation_ds = validation_ds.map(process)"
      ]
    },
    {
      "cell_type": "code",
      "execution_count": 4,
      "metadata": {
        "id": "_FcGcmkescVi"
      },
      "outputs": [],
      "source": [
        "# create CNN model\n",
        "\n",
        "model = Sequential()\n",
        "\n",
        "model.add(Conv2D(32,kernel_size=(3, 3),padding='valid',activation='relu',input_shape=(64,64,3)))\n",
        "model.add(BatchNormalization())\n",
        "model.add(MaxPooling2D(pool_size=(2, 2),strides=2,padding='valid'))\n",
        "\n",
        "model.add(Conv2D(64,kernel_size=(3, 3),padding='valid',activation='relu'))\n",
        "model.add(BatchNormalization())\n",
        "model.add(MaxPooling2D(pool_size=(2, 2),strides=2,padding='valid'))\n",
        "\n",
        "model.add(Conv2D(128,kernel_size=(3, 3),padding='valid',activation='relu'))\n",
        "model.add(BatchNormalization())\n",
        "model.add(MaxPooling2D(pool_size=(2, 2),strides=2,padding='valid'))\n",
        "\n",
        "model.add(Flatten())\n",
        "\n",
        "model.add(Dense(128,activation='relu'))\n",
        "model.add(Dropout(0.1))\n",
        "model.add(Dense(64,activation='relu'))\n",
        "model.add(Dropout(0.1))\n",
        "model.add(Dense(1,activation='sigmoid'))"
      ]
    },
    {
      "cell_type": "code",
      "execution_count": 5,
      "metadata": {
        "colab": {
          "base_uri": "https://localhost:8080/"
        },
        "id": "7aJZyq2Ltdno",
        "outputId": "f3cc78ac-c158-4a75-f6fa-007cb49ab2c9"
      },
      "outputs": [
        {
          "name": "stdout",
          "output_type": "stream",
          "text": [
            "Model: \"sequential\"\n",
            "_________________________________________________________________\n",
            " Layer (type)                Output Shape              Param #   \n",
            "=================================================================\n",
            " conv2d (Conv2D)             (None, 62, 62, 32)        896       \n",
            "                                                                 \n",
            " batch_normalization (BatchN  (None, 62, 62, 32)       128       \n",
            " ormalization)                                                   \n",
            "                                                                 \n",
            " max_pooling2d (MaxPooling2D  (None, 31, 31, 32)       0         \n",
            " )                                                               \n",
            "                                                                 \n",
            " conv2d_1 (Conv2D)           (None, 29, 29, 64)        18496     \n",
            "                                                                 \n",
            " batch_normalization_1 (Batc  (None, 29, 29, 64)       256       \n",
            " hNormalization)                                                 \n",
            "                                                                 \n",
            " max_pooling2d_1 (MaxPooling  (None, 14, 14, 64)       0         \n",
            " 2D)                                                             \n",
            "                                                                 \n",
            " conv2d_2 (Conv2D)           (None, 12, 12, 128)       73856     \n",
            "                                                                 \n",
            " batch_normalization_2 (Batc  (None, 12, 12, 128)      512       \n",
            " hNormalization)                                                 \n",
            "                                                                 \n",
            " max_pooling2d_2 (MaxPooling  (None, 6, 6, 128)        0         \n",
            " 2D)                                                             \n",
            "                                                                 \n",
            " flatten (Flatten)           (None, 4608)              0         \n",
            "                                                                 \n",
            " dense (Dense)               (None, 128)               589952    \n",
            "                                                                 \n",
            " dropout (Dropout)           (None, 128)               0         \n",
            "                                                                 \n",
            " dense_1 (Dense)             (None, 64)                8256      \n",
            "                                                                 \n",
            " dropout_1 (Dropout)         (None, 64)                0         \n",
            "                                                                 \n",
            " dense_2 (Dense)             (None, 1)                 65        \n",
            "                                                                 \n",
            "=================================================================\n",
            "Total params: 692,417\n",
            "Trainable params: 691,969\n",
            "Non-trainable params: 448\n",
            "_________________________________________________________________\n"
          ]
        }
      ],
      "source": [
        "model.summary()"
      ]
    },
    {
      "cell_type": "code",
      "execution_count": 6,
      "metadata": {
        "id": "SL-E5k_5tf9N"
      },
      "outputs": [],
      "source": [
        "model.compile(optimizer='AdaGrad',loss='binary_crossentropy',metrics=['accuracy'])"
      ]
    },
    {
      "cell_type": "code",
      "execution_count": 14,
      "metadata": {
        "colab": {
          "base_uri": "https://localhost:8080/"
        },
        "id": "HHBFNFHCtzLu",
        "outputId": "05fe5840-f4ed-46d4-c543-ea060689d7f4"
      },
      "outputs": [
        {
          "name": "stdout",
          "output_type": "stream",
          "text": [
            "Epoch 1/15\n",
            "60/60 [==============================] - 7s 119ms/step - loss: 0.1261 - accuracy: 0.9517 - val_loss: 0.4161 - val_accuracy: 0.8211\n",
            "Epoch 2/15\n",
            "60/60 [==============================] - 8s 138ms/step - loss: 0.0987 - accuracy: 0.9632 - val_loss: 0.4088 - val_accuracy: 0.8293\n",
            "Epoch 3/15\n",
            "60/60 [==============================] - 9s 149ms/step - loss: 0.0985 - accuracy: 0.9622 - val_loss: 0.4493 - val_accuracy: 0.8211\n",
            "Epoch 4/15\n",
            "60/60 [==============================] - 9s 152ms/step - loss: 0.0932 - accuracy: 0.9711 - val_loss: 0.4634 - val_accuracy: 0.8293\n",
            "Epoch 5/15\n",
            "60/60 [==============================] - 9s 152ms/step - loss: 0.0970 - accuracy: 0.9643 - val_loss: 0.3941 - val_accuracy: 0.8537\n",
            "Epoch 6/15\n",
            "60/60 [==============================] - 9s 153ms/step - loss: 0.0859 - accuracy: 0.9690 - val_loss: 0.4038 - val_accuracy: 0.8130\n",
            "Epoch 7/15\n",
            "60/60 [==============================] - 9s 152ms/step - loss: 0.0881 - accuracy: 0.9732 - val_loss: 0.4546 - val_accuracy: 0.8130\n",
            "Epoch 8/15\n",
            "60/60 [==============================] - 10s 155ms/step - loss: 0.1044 - accuracy: 0.9648 - val_loss: 0.4107 - val_accuracy: 0.8862\n",
            "Epoch 9/15\n",
            "60/60 [==============================] - 10s 158ms/step - loss: 0.0874 - accuracy: 0.9674 - val_loss: 0.5228 - val_accuracy: 0.8130\n",
            "Epoch 10/15\n",
            "60/60 [==============================] - 10s 163ms/step - loss: 0.0848 - accuracy: 0.9695 - val_loss: 0.3663 - val_accuracy: 0.8293\n",
            "Epoch 11/15\n",
            "60/60 [==============================] - 10s 163ms/step - loss: 0.0836 - accuracy: 0.9695 - val_loss: 0.4758 - val_accuracy: 0.8049\n",
            "Epoch 12/15\n",
            "60/60 [==============================] - 10s 160ms/step - loss: 0.0735 - accuracy: 0.9748 - val_loss: 0.4183 - val_accuracy: 0.8455\n",
            "Epoch 13/15\n",
            "60/60 [==============================] - 10s 157ms/step - loss: 0.0832 - accuracy: 0.9701 - val_loss: 0.3655 - val_accuracy: 0.8455\n",
            "Epoch 14/15\n",
            "60/60 [==============================] - 10s 159ms/step - loss: 0.0776 - accuracy: 0.9695 - val_loss: 0.3884 - val_accuracy: 0.8130\n",
            "Epoch 15/15\n",
            "60/60 [==============================] - 10s 162ms/step - loss: 0.0674 - accuracy: 0.9800 - val_loss: 0.4188 - val_accuracy: 0.8211\n"
          ]
        }
      ],
      "source": [
        "history = model.fit(train_ds,epochs=15,validation_data=validation_ds)"
      ]
    },
    {
      "cell_type": "code",
      "execution_count": 15,
      "metadata": {},
      "outputs": [
        {
          "name": "stdout",
          "output_type": "stream",
          "text": [
            "4/4 [==============================] - 0s 33ms/step - loss: 0.4188 - accuracy: 0.8211\n"
          ]
        },
        {
          "data": {
            "text/plain": [
              "[0.4187942147254944, 0.8211382031440735]"
            ]
          },
          "execution_count": 15,
          "metadata": {},
          "output_type": "execute_result"
        }
      ],
      "source": [
        "model.evaluate(validation_ds)"
      ]
    },
    {
      "cell_type": "code",
      "execution_count": 16,
      "metadata": {
        "colab": {
          "base_uri": "https://localhost:8080/",
          "height": 265
        },
        "id": "GLXWhpapuAuV",
        "outputId": "9e42e764-60b5-4dd5-a49c-ab235dfca945"
      },
      "outputs": [
        {
          "data": {
            "image/png": "[encoded data removed]",
            "text/plain": [
              "<Figure size 432x288 with 1 Axes>"
            ]
          },
          "metadata": {
            "needs_background": "light"
          },
          "output_type": "display_data"
        }
      ],
      "source": [
        "import matplotlib.pyplot as plt\n",
        "\n",
        "plt.plot(history.history['accuracy'],color='brown',label='Training')\n",
        "plt.plot(history.history['val_accuracy'],color='red',label='Testing')\n",
        "plt.legend()\n",
        "plt.show()"
      ]
    },
    {
      "cell_type": "code",
      "execution_count": 17,
      "metadata": {
        "colab": {
          "base_uri": "https://localhost:8080/",
          "height": 265
        },
        "id": "KvbfHPut7Zer",
        "outputId": "801adae5-2d23-4f83-d7bc-9412fd4ca183"
      },
      "outputs": [
        {
          "data": {
            "image/png": "[encoded data removed]",
            "text/plain": [
              "<Figure size 432x288 with 1 Axes>"
            ]
          },
          "metadata": {
            "needs_background": "light"
          },
          "output_type": "display_data"
        }
      ],
      "source": [
        "plt.plot(history.history['loss'],color='brown',label='Training')\n",
        "plt.plot(history.history['val_loss'],color='red',label='Testing')\n",
        "plt.legend()\n",
        "plt.show()"
      ]
    }
  ],
  "metadata": {
    "accelerator": "GPU",
    "colab": {
      "provenance": []
    },
    "kernelspec": {
      "display_name": "Python 3",
      "language": "python",
      "name": "python3"
    },
    "language_info": {
      "codemirror_mode": {
        "name": "ipython",
        "version": 3
      },
      "file_extension": ".py",
      "mimetype": "text/x-python",
      "name": "python",
      "nbconvert_exporter": "python",
      "pygments_lexer": "ipython3",
      "version": "3.9.13"
    },
    "vscode": {
      "interpreter": {
        "hash": "628c80e3809a46203876fdd5cbc816d645c25628ab36310a47bd2d99a309ccdc"
      }
    }
  },
  "nbformat": 4,
  "nbformat_minor": 0
}
